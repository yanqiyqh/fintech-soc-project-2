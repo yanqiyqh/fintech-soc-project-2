{
 "cells": [
  {
   "cell_type": "code",
   "execution_count": null,
   "id": "13d093c6",
   "metadata": {},
   "outputs": [],
   "source": [
    "#web scraping for data\n",
    "#to build database of windows for training\n",
    "import requests, lxml, re, json, urllib\n",
    "from bs4 import BeautifulSoup\n",
    "\n",
    "headers = {\n",
    "    \"User-Agent\":\n",
    "    \"Mozilla/5.0 (Windows NT 10.0; Win64; x64) AppleWebKit/537.36 (KHTML, like Gecko) Chrome/70.0.3538.102 Safari/537.36 Edge/18.19582\"\n",
    "}\n",
    "\n",
    "params = {\n",
    "    \"q\": \"window hdb\",\n",
    "    \"tbm\": \"isch\",\n",
    "    \"ijn\": \"0\",\n",
    "}\n",
    "\n",
    "html = requests.get(\"https://www.google.com/search\", params=params, headers=headers)\n",
    "soup = BeautifulSoup(html.text, 'lxml')\n",
    "\n",
    "\n",
    "def get_images_data():\n",
    "\n",
    "    all_script_tags = soup.select('script')\n",
    "\n",
    "    # # https://regex101.com/r/48UZhY/4\n",
    "    matched_images_data = ''.join(re.findall(r\"AF_initDataCallback\\(([^<]+)\\);\", str(all_script_tags)))\n",
    "\n",
    "    matched_images_data_fix = json.dumps(matched_images_data)\n",
    "    matched_images_data_json = json.loads(matched_images_data_fix)\n",
    "\n",
    "    # https://regex101.com/r/pdZOnW/3\n",
    "    matched_google_image_data = re.findall(r'\\[\\\"GRID_STATE0\\\",null,\\[\\[1,\\[0,\\\".*?\\\",(.*),\\\"All\\\",', matched_images_data_json)\n",
    "\n",
    "    # https://regex101.com/r/NnRg27/1\n",
    "    matched_google_images_thumbnails = ', '.join(\n",
    "        re.findall(r'\\[\\\"(https\\:\\/\\/encrypted-tbn0\\.gstatic\\.com\\/images\\?.*?)\\\",\\d+,\\d+\\]',\n",
    "                   str(matched_google_image_data))).split(', ')\n",
    "\n",
    "    print('Google Image Thumbnails:')  # in order\n",
    "    for fixed_google_image_thumbnail in matched_google_images_thumbnails:\n",
    "        # https://stackoverflow.com/a/4004439/15164646 comment by Frédéric Hamidi\n",
    "        google_image_thumbnail_not_fixed = bytes(fixed_google_image_thumbnail, 'ascii').decode('unicode-escape')\n",
    "\n",
    "        # after first decoding, Unicode characters are still present. After the second iteration, they were decoded.\n",
    "        google_image_thumbnail = bytes(google_image_thumbnail_not_fixed, 'ascii').decode('unicode-escape')\n",
    "        print(google_image_thumbnail)\n",
    "        \n",
    "\n",
    "    # removing previously matched thumbnails for easier full resolution image matches.\n",
    "    removed_matched_google_images_thumbnails = re.sub(\n",
    "        r'\\[\\\"(https\\:\\/\\/encrypted-tbn0\\.gstatic\\.com\\/images\\?.*?)\\\",\\d+,\\d+\\]', '', str(matched_google_image_data))\n",
    "\n",
    "    # https://regex101.com/r/fXjfb1/4\n",
    "    # https://stackoverflow.com/a/19821774/15164646\n",
    "    matched_google_full_resolution_images = re.findall(r\"(?:'|,),\\[\\\"(https:|http.*?)\\\",\\d+,\\d+\\]\",\n",
    "                                                       removed_matched_google_images_thumbnails)\n",
    "\n",
    "\n",
    "    print('\\nFull Resolution Images:')  # in order\n",
    "    count = 12\n",
    "    for index, fixed_full_res_image in enumerate(matched_google_full_resolution_images):\n",
    "        original_size_img_not_fixed = bytes(fixed_full_res_image, 'ascii').decode('unicode-escape')\n",
    "        original_size_img = bytes(original_size_img_not_fixed, 'ascii').decode('unicode-escape')\n",
    "        print(original_size_img)\n",
    "\n",
    "        # ------------------------------------------------\n",
    "        # Download original images\n",
    "\n",
    "        # print(f'Downloading {index} image...')\n",
    "\n",
    "        opener=urllib.request.build_opener()\n",
    "        opener.addheaders=[('User-Agent','Mozilla/5.0 (Windows NT 10.0; Win64; x64) AppleWebKit/537.36 (KHTML, like Gecko) Chrome/70.0.3538.102 Safari/537.36 Edge/18.19582')]\n",
    "        urllib.request.install_opener(opener)\n",
    "\n",
    "        urllib.request.urlretrieve(original_size_img, f'./window-img/window-{count}.jpg')\n",
    "        count += 1\n",
    "\n",
    "\n",
    "\n",
    "get_images_data()"
   ]
  },
  {
   "cell_type": "code",
   "execution_count": null,
   "id": "5443bf3c",
   "metadata": {},
   "outputs": [],
   "source": [
    "#load manual labelled data for windows\n",
    "from roboflow import Roboflow\n",
    "rf = Roboflow(api_key=\"XIkFjSCMqTJ3giSB84K3\")\n",
    "project = rf.workspace().project(\"window-detection\")\n",
    "dataset = project.version(1).download(\"yolov5\")"
   ]
  },
  {
   "cell_type": "code",
   "execution_count": null,
   "id": "0c30cf85",
   "metadata": {
    "scrolled": false
   },
   "outputs": [],
   "source": [
    "#train command for model\n",
    "!python3 ./yolov5/train.py --data ./Window-Detection-1/data.yaml --weights yolov5s.pt --img 640"
   ]
  },
  {
   "cell_type": "code",
   "execution_count": 17,
   "id": "fdef75c5",
   "metadata": {},
   "outputs": [
    {
     "name": "stdout",
     "output_type": "stream",
     "text": [
      "\u001b[34m\u001b[1mdetect: \u001b[0mweights=['./yolov5/runs/train/exp/weights/best.pt'], source=./actual-data/actual-window-3.jpg, imgsz=[640, 640], conf_thres=0.7, iou_thres=0.45, max_det=1000, device=, view_img=False, save_txt=True, save_conf=False, save_crop=False, nosave=False, classes=None, agnostic_nms=False, augment=False, visualize=False, update=False, project=yolov5/runs/detect, name=exp, exist_ok=False, line_thickness=3, hide_labels=False, hide_conf=False, half=False, dnn=False\n",
      "YOLOv5 🚀 v6.0-127-g554f782 torch 1.10.0 CPU\n",
      "\n",
      "Fusing layers... \n",
      "Model Summary: 213 layers, 7012822 parameters, 0 gradients, 15.8 GFLOPs\n",
      "image 1/1 /Users/yanch/Documents/personal/uni/fintech/project-2/actual-data/actual-window-3.jpg: 480x640 1 windows, Done. (0.256s)\n",
      "Speed: 7.0ms pre-process, 256.5ms inference, 19.6ms NMS per image at shape (1, 3, 640, 640)\n",
      "Results saved to \u001b[1myolov5/runs/detect/exp8\u001b[0m\n",
      "1 labels saved to yolov5/runs/detect/exp8/labels\n"
     ]
    }
   ],
   "source": [
    "#run on image\n",
    "#source accepts folder of images or an image\n",
    "file = './actual-data/actual-window-3.jpg'\n",
    "name = file.split('/')[-1].strip('.jpg')\n",
    "!python3 ./yolov5/detect.py --weights ./yolov5/runs/train/exp/weights/best.pt \\\n",
    "                            --img 640 --conf 0.7 --source ./actual-data/actual-window-3.jpg --save-txt\n",
    "\n",
    "#save-txt generates a text file of class, x, y, width, height in each row for each object\n",
    "#assuming image is plotted into 1x1 graph "
   ]
  },
  {
   "cell_type": "code",
   "execution_count": 4,
   "id": "3526f488",
   "metadata": {},
   "outputs": [
    {
     "name": "stdout",
     "output_type": "stream",
     "text": [
      "actual-window-3\n"
     ]
    }
   ],
   "source": [
    "file = './actual-data/actual-window-3.jpg'\n",
    "name = file.split('/')[-1].strip('.jpg')\n",
    "print(name)"
   ]
  },
  {
   "cell_type": "code",
   "execution_count": null,
   "id": "205d9cab",
   "metadata": {},
   "outputs": [],
   "source": [
    "#width and height (pixels) data is available in .txt\n",
    "#how to get pixels/metric? => reference object in image\n",
    "\n",
    "ppm = None #pixels per metric\n",
    "\n",
    "#find reference object (new class) and its width and height in txt file\n",
    "#convert to ppm\n",
    "#use ppm to calculate window width and height"
   ]
  },
  {
   "cell_type": "code",
   "execution_count": 15,
   "id": "1b53d277",
   "metadata": {},
   "outputs": [
    {
     "name": "stdout",
     "output_type": "stream",
     "text": [
      "1.935 1.7240016000000002\n"
     ]
    }
   ],
   "source": [
    "#alternative\n",
    "#with specified distance from object and assumed camera parameters, we can find the object's real height\n",
    "\n",
    "#formula: (object pixel height * pixel size * distance)/focal length\n",
    "\n",
    "#26mm focal length\n",
    "#assuming distance from window is 3m\n",
    "\n",
    "fl = 0.026 #in m\n",
    "d = 3\n",
    "psize = 0.000065\n",
    "w = 0.403125 * 640\n",
    "h = 0.359167 * 640\n",
    "rw = w * psize * d / fl\n",
    "rh = h * psize * d / fl\n",
    "print(rw, rh)\n",
    "\n",
    "#to use real photo to calibrate psize"
   ]
  }
 ],
 "metadata": {
  "kernelspec": {
   "display_name": "Python 3 (ipykernel)",
   "language": "python",
   "name": "python3"
  },
  "language_info": {
   "codemirror_mode": {
    "name": "ipython",
    "version": 3
   },
   "file_extension": ".py",
   "mimetype": "text/x-python",
   "name": "python",
   "nbconvert_exporter": "python",
   "pygments_lexer": "ipython3",
   "version": "3.9.7"
  }
 },
 "nbformat": 4,
 "nbformat_minor": 5
}
